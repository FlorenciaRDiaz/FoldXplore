{
 "cells": [
  {
   "cell_type": "code",
   "execution_count": 1,
   "metadata": {},
   "outputs": [
    {
     "name": "stdout",
     "output_type": "stream",
     "text": [
      "No estás en Google Colab. Algunas funcionalidades estarán limitadas.\n"
     ]
    },
    {
     "data": {
      "application/vnd.jupyter.widget-view+json": {
       "model_id": "d137bd88df7c44ba82aa2eaf569c62c8",
       "version_major": 2,
       "version_minor": 0
      },
      "text/plain": []
     },
     "metadata": {},
     "output_type": "display_data"
    },
    {
     "name": "stdout",
     "output_type": "stream",
     "text": [
      "No estás en Google Colab. Algunas funcionalidades estarán limitadas.\n"
     ]
    }
   ],
   "source": [
    "import sys\n",
    "import os\n",
    "\n",
    "# Añadir la ruta a sys.path\n",
    "module_path = r'C:/Users/flor_/FoldComparative/AlphaFoldXplore_3'\n",
    "if module_path not in sys.path:\n",
    "    sys.path.append(module_path)\n",
    "\n",
    "# Ahora importa el módulo\n",
    "import fold_comparative"
   ]
  },
  {
   "cell_type": "code",
   "execution_count": 2,
   "metadata": {},
   "outputs": [
    {
     "ename": "NameError",
     "evalue": "name 'load_af3_interactive_colab' is not defined",
     "output_type": "error",
     "traceback": [
      "\u001b[1;31m---------------------------------------------------------------------------\u001b[0m",
      "\u001b[1;31mNameError\u001b[0m                                 Traceback (most recent call last)",
      "Cell \u001b[1;32mIn[2], line 2\u001b[0m\n\u001b[0;32m      1\u001b[0m \u001b[38;5;66;03m# Ejecutar la función interactiva para cargar y procesar el archivo .zip desde la computadora local\u001b[39;00m\n\u001b[1;32m----> 2\u001b[0m result_1 \u001b[38;5;241m=\u001b[39m \u001b[43mload_af3_interactive_colab\u001b[49m()\n\u001b[0;32m      3\u001b[0m \u001b[38;5;66;03m# Acceder al resultado p1\u001b[39;00m\n\u001b[0;32m      4\u001b[0m p1 \u001b[38;5;241m=\u001b[39m result_1[\u001b[38;5;124m'\u001b[39m\u001b[38;5;124mp1\u001b[39m\u001b[38;5;124m'\u001b[39m]\n",
      "\u001b[1;31mNameError\u001b[0m: name 'load_af3_interactive_colab' is not defined"
     ]
    }
   ],
   "source": [
    "# Ejecutar la función interactiva para cargar y procesar el archivo .zip desde la computadora local\n",
    "result_1 = load_af3_interactive_colab()\n",
    "# Acceder al resultado p1\n",
    "p1 = result_1['p1']\n",
    "print(p1)\n"
   ]
  }
 ],
 "metadata": {
  "kernelspec": {
   "display_name": "Python 3",
   "language": "python",
   "name": "python3"
  },
  "language_info": {
   "codemirror_mode": {
    "name": "ipython",
    "version": 3
   },
   "file_extension": ".py",
   "mimetype": "text/x-python",
   "name": "python",
   "nbconvert_exporter": "python",
   "pygments_lexer": "ipython3",
   "version": "3.12.5"
  }
 },
 "nbformat": 4,
 "nbformat_minor": 2
}
